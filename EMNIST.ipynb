{
  "nbformat": 4,
  "nbformat_minor": 0,
  "metadata": {
    "colab": {
      "provenance": []
    },
    "kernelspec": {
      "name": "python3",
      "display_name": "Python 3"
    },
    "language_info": {
      "name": "python"
    }
  },
  "cells": [
    {
      "cell_type": "markdown",
      "source": [
        "# Install and import necessary libraries"
      ],
      "metadata": {
        "id": "BTem-IH1z8yS"
      }
    },
    {
      "cell_type": "code",
      "source": [
        "pip install pillow"
      ],
      "metadata": {
        "colab": {
          "base_uri": "https://localhost:8080/"
        },
        "id": "Eo4rveX3ujru",
        "outputId": "2baa8882-2ab5-4d8b-d94f-8db5631e0db8"
      },
      "execution_count": 1,
      "outputs": [
        {
          "output_type": "stream",
          "name": "stdout",
          "text": [
            "Looking in indexes: https://pypi.org/simple, https://us-python.pkg.dev/colab-wheels/public/simple/\n",
            "Requirement already satisfied: pillow in /usr/local/lib/python3.10/dist-packages (8.4.0)\n"
          ]
        }
      ]
    },
    {
      "cell_type": "code",
      "execution_count": 3,
      "metadata": {
        "id": "BsrzRhQLv6VS"
      },
      "outputs": [],
      "source": [
        "import torch\n",
        "import torchvision.transforms as transforms\n",
        "from torchvision.datasets import EMNIST\n",
        "import torch.nn as nn\n",
        "import torchvision\n",
        "import torchvision.models as models\n",
        "import torch.optim as optim\n",
        "import random\n",
        "from torch.utils.data import Subset\n",
        "import matplotlib.pyplot as plt\n",
        "import numpy as np\n",
        "import tkinter as tk\n",
        "from PIL import Image, ImageDraw\n",
        "import string"
      ]
    },
    {
      "cell_type": "markdown",
      "source": [
        "# Load and preprocess dataset"
      ],
      "metadata": {
        "id": "-JQXctGH0Dj9"
      }
    },
    {
      "cell_type": "code",
      "source": [
        "transform = transforms.Compose([\n",
        "    transforms.RandomAffine(degrees=10, translate=(0.1, 0.1), scale=(0.9, 1.1)),\n",
        "    transforms.ToTensor(),\n",
        "    transforms.Normalize((0.5,), (0.5,))\n",
        "])\n",
        "\n",
        "\n",
        "full_train_dataset = EMNIST(root='./data', split='letters', train=True, download=True, transform=transform)\n",
        "full_test_dataset = EMNIST(root='./data', split='letters', train=False, download=True, transform=transform)\n",
        "\n",
        "\n",
        "train_indices = random.sample(range(len(full_train_dataset)), 8000)\n",
        "test_indices = random.sample(range(len(full_test_dataset)), 500)\n",
        "\n",
        "train_dataset = Subset(full_train_dataset, train_indices)\n",
        "test_dataset = Subset(full_test_dataset, test_indices)\n",
        "\n",
        "train_loader = torch.utils.data.DataLoader(train_dataset, batch_size=64, shuffle=True)\n",
        "test_loader = torch.utils.data.DataLoader(test_dataset, batch_size=64, shuffle=False)"
      ],
      "metadata": {
        "id": "6fyZgldW1Xt5",
        "colab": {
          "base_uri": "https://localhost:8080/"
        },
        "outputId": "bbe97d09-8a3e-4eab-dc14-f9fe3e9016aa"
      },
      "execution_count": 4,
      "outputs": [
        {
          "output_type": "stream",
          "name": "stdout",
          "text": [
            "Downloading https://www.itl.nist.gov/iaui/vip/cs_links/EMNIST/gzip.zip to ./data/EMNIST/raw/gzip.zip\n"
          ]
        },
        {
          "output_type": "stream",
          "name": "stderr",
          "text": [
            "100%|██████████| 561753746/561753746 [00:07<00:00, 79842778.55it/s]\n"
          ]
        },
        {
          "output_type": "stream",
          "name": "stdout",
          "text": [
            "Extracting ./data/EMNIST/raw/gzip.zip to ./data/EMNIST/raw\n"
          ]
        }
      ]
    },
    {
      "cell_type": "code",
      "source": [
        "def imshow(img):\n",
        "    img = img / 2 + 0.5  \n",
        "    np_img = img.numpy()\n",
        "    plt.imshow(np.transpose(np_img, (2, 1, 0)))\n",
        "    plt.show()\n",
        "\n",
        "dataiter = iter(train_loader)\n",
        "images, labels = dataiter.__next__()\n",
        "images = images[:10]\n",
        "labels = labels[:10]\n",
        "\n",
        "imshow(torchvision.utils.make_grid(images))\n",
        "\n",
        "print('Labels:', ' '.join('%5s' % labels[j].item() for j in range(10)))"
      ],
      "metadata": {
        "colab": {
          "base_uri": "https://localhost:8080/",
          "height": 452
        },
        "id": "46XtvhzvssZ0",
        "outputId": "1c79d187-ab34-4ae2-af18-1b34a0c831a5"
      },
      "execution_count": 5,
      "outputs": [
        {
          "output_type": "display_data",
          "data": {
            "text/plain": [
              "<Figure size 640x480 with 1 Axes>"
            ],
            "image/png": "[encoded data removed]"
          },
          "metadata": {}
        },
        {
          "output_type": "stream",
          "name": "stdout",
          "text": [
            "Labels:     1     9     2    17    14    20     4     6     7     5\n"
          ]
        }
      ]
    },
    {
      "cell_type": "markdown",
      "source": [
        "# Import and modify the Resnet18 model"
      ],
      "metadata": {
        "id": "WAEzAPnC0kEG"
      }
    },
    {
      "cell_type": "code",
      "source": [
        "class UnfrozenResNet18(nn.Module):\n",
        "    def __init__(self, num_classes=26):\n",
        "        super(UnfrozenResNet18, self).__init__()\n",
        "        \n",
        "        self.network = models.resnet18(pretrained=True)\n",
        "        \n",
        "        self.network.conv1 = nn.Conv2d(1, 64, kernel_size=7, stride=2, padding=3, bias=False)\n",
        "        \n",
        "        num_ftrs = self.network.fc.in_features\n",
        "        self.network.fc = nn.Linear(num_ftrs, num_classes)\n",
        "        \n",
        "    def forward(self, xb):\n",
        "        return self.network(xb)"
      ],
      "metadata": {
        "id": "dm-iBdWb8gH8"
      },
      "execution_count": null,
      "outputs": []
    },
    {
      "cell_type": "markdown",
      "source": [
        "# Train and evaluate the model"
      ],
      "metadata": {
        "id": "NcSVqoAb0vFy"
      }
    },
    {
      "cell_type": "code",
      "source": [
        "def evaluate(model, test_loader, criterion):\n",
        "    model.eval()\n",
        "    device = torch.device('cuda' if torch.cuda.is_available() else 'cpu')\n",
        "    \n",
        "    test_loss = 0.0\n",
        "    correct = 0\n",
        "    total = 0\n",
        "    \n",
        "    with torch.no_grad():\n",
        "        for inputs, labels in test_loader:\n",
        "            inputs, labels = inputs.to(device), labels.to(device)\n",
        "            outputs = model(inputs)\n",
        "            loss = criterion(outputs, labels - 1) ####\n",
        "            \n",
        "            test_loss += loss.item()\n",
        "            \n",
        "            _, predicted = torch.max(outputs, 1)\n",
        "            total += labels.size(0)\n",
        "            correct += (predicted == (labels - 1)).sum().item()\n",
        "    \n",
        "    accuracy = correct / total\n",
        "    return test_loss / len(test_loader), accuracy\n",
        "\n",
        "def train(model, train_loader, test_loader, num_epochs=10):\n",
        "    device = torch.device('cuda' if torch.cuda.is_available() else 'cpu')\n",
        "    model = model.to(device)\n",
        "    \n",
        "    criterion = nn.CrossEntropyLoss()\n",
        "    optimizer = optim.Adam(model.parameters(), lr=0.001)\n",
        "    \n",
        "    for epoch in range(num_epochs):\n",
        "        model.train()\n",
        "        running_train_loss = 0.0\n",
        "        for inputs, labels in train_loader:\n",
        "            inputs, labels = inputs.to(device), labels.to(device)\n",
        "            \n",
        "            optimizer.zero_grad()\n",
        "            \n",
        "            outputs = model(inputs)\n",
        "            loss = criterion(outputs, labels - 1) ####\n",
        "            loss.backward()\n",
        "            optimizer.step()\n",
        "            \n",
        "            running_train_loss += loss.item()\n",
        "        \n",
        "        test_loss, test_accuracy = evaluate(model, test_loader, criterion)\n",
        "        print(f\"Epoch {epoch + 1}/{num_epochs}, Train Loss: {running_train_loss / len(train_loader)}, Test Loss: {test_loss}, Test Accuracy: {test_accuracy * 100:.2f}%\")\n"
      ],
      "metadata": {
        "id": "qaPNK18K_WHP"
      },
      "execution_count": null,
      "outputs": []
    },
    {
      "cell_type": "code",
      "source": [
        "model18 = UnfrozenResNet18()\n",
        "train(model18, train_loader, test_loader, num_epochs=15)"
      ],
      "metadata": {
        "colab": {
          "base_uri": "https://localhost:8080/"
        },
        "id": "gkzg3IRHFVWO",
        "outputId": "01f96253-a517-4661-8579-43e04ae7424a"
      },
      "execution_count": null,
      "outputs": [
        {
          "output_type": "stream",
          "name": "stderr",
          "text": [
            "/usr/local/lib/python3.10/dist-packages/torchvision/models/_utils.py:208: UserWarning: The parameter 'pretrained' is deprecated since 0.13 and may be removed in the future, please use 'weights' instead.\n",
            "  warnings.warn(\n",
            "/usr/local/lib/python3.10/dist-packages/torchvision/models/_utils.py:223: UserWarning: Arguments other than a weight enum or `None` for 'weights' are deprecated since 0.13 and may be removed in the future. The current behavior is equivalent to passing `weights=ResNet18_Weights.IMAGENET1K_V1`. You can also use `weights=ResNet18_Weights.DEFAULT` to get the most up-to-date weights.\n",
            "  warnings.warn(msg)\n"
          ]
        },
        {
          "output_type": "stream",
          "name": "stdout",
          "text": [
            "Epoch 1/15, Train Loss: 1.6654104323387147, Test Loss: 1.3371052965521812, Test Accuracy: 61.40%\n",
            "Epoch 2/15, Train Loss: 0.8059205980300903, Test Loss: 0.7413980066776276, Test Accuracy: 75.20%\n",
            "Epoch 3/15, Train Loss: 0.5950905478000641, Test Loss: 0.7048125341534615, Test Accuracy: 76.40%\n",
            "Epoch 4/15, Train Loss: 0.5174991106986999, Test Loss: 0.49190085008740425, Test Accuracy: 82.80%\n",
            "Epoch 5/15, Train Loss: 0.44820867669582365, Test Loss: 0.45359931886196136, Test Accuracy: 84.40%\n",
            "Epoch 6/15, Train Loss: 0.4127877931594849, Test Loss: 0.4634396992623806, Test Accuracy: 85.60%\n",
            "Epoch 7/15, Train Loss: 0.3908986302614212, Test Loss: 0.4648913871496916, Test Accuracy: 85.20%\n",
            "Epoch 8/15, Train Loss: 0.35585842275619506, Test Loss: 0.44967469200491905, Test Accuracy: 84.00%\n",
            "Epoch 9/15, Train Loss: 0.33606344944238664, Test Loss: 0.44718095660209656, Test Accuracy: 84.60%\n",
            "Epoch 10/15, Train Loss: 0.3381668884754181, Test Loss: 0.38015275448560715, Test Accuracy: 87.20%\n",
            "Epoch 11/15, Train Loss: 0.3233281898498535, Test Loss: 0.3562571220099926, Test Accuracy: 86.80%\n",
            "Epoch 12/15, Train Loss: 0.31874539494514464, Test Loss: 0.4370176363736391, Test Accuracy: 86.20%\n",
            "Epoch 13/15, Train Loss: 0.291889528632164, Test Loss: 0.4545847475528717, Test Accuracy: 86.20%\n",
            "Epoch 14/15, Train Loss: 0.2863427075743675, Test Loss: 0.3862394355237484, Test Accuracy: 88.80%\n",
            "Epoch 15/15, Train Loss: 0.27239279413223266, Test Loss: 0.3732466921210289, Test Accuracy: 88.00%\n"
          ]
        }
      ]
    },
    {
      "cell_type": "markdown",
      "source": [
        "# Develop a Drawing board to enable user input"
      ],
      "metadata": {
        "id": "3pBl6Ux404Ku"
      }
    },
    {
      "cell_type": "code",
      "source": [
        "class DrawingApp:\n",
        "    def __init__(self, root):\n",
        "        self.root = root\n",
        "        self.root.title(\"Handwritten Letter Drawing App\")\n",
        "        self.root.geometry(\"400x400\")\n",
        "        self.canvas = tk.Canvas(self.root, bg=\"black\", width=280, height=280)\n",
        "        self.canvas.pack(pady=10)\n",
        "\n",
        "        self.save_button = tk.Button(self.root, text=\"Save\", command=self.save_image)\n",
        "        self.save_button.pack(pady=5)\n",
        "\n",
        "        self.clear_button = tk.Button(self.root, text=\"Clear\", command=self.clear_canvas)\n",
        "        self.clear_button.pack(pady=5)\n",
        "\n",
        "        self.canvas.bind(\"<B1-Motion>\", self.draw)\n",
        "        self.canvas.bind(\"<ButtonPress-1>\", self.on_button_press)\n",
        "        self.canvas.bind(\"<ButtonRelease-1>\", self.on_button_release)\n",
        "\n",
        "        self.image = Image.new(\"RGB\", (280, 280), \"black\")\n",
        "        self.draw_obj = ImageDraw.Draw(self.image)\n",
        "        self.last_x = None\n",
        "        self.last_y = None\n",
        "\n",
        "    def on_button_press(self, event):\n",
        "        self.last_x = event.x\n",
        "        self.last_y = event.y\n",
        "\n",
        "    def on_button_release(self, event):\n",
        "        self.last_x = None\n",
        "        self.last_y = None\n",
        "\n",
        "    def draw(self, event):\n",
        "        x, y = event.x, event.y\n",
        "        r = 5\n",
        "        if self.last_x and self.last_y:\n",
        "            self.canvas.create_line(self.last_x, self.last_y, x, y, fill=\"white\", width=r * 2, capstyle=tk.ROUND, smooth=True)\n",
        "            self.draw_obj.line([self.last_x, self.last_y, x, y], fill=\"white\", width=r * 2)\n",
        "        self.last_x = x\n",
        "        self.last_y = y\n",
        "\n",
        "    def save_image(self):\n",
        "        resized_image = self.image.resize((28, 28), Image.ANTIALIAS)\n",
        "        resized_image.save(\"letter_image.png\")\n",
        "        print(\"Image saved as letter_image.png\")\n",
        "\n",
        "    def clear_canvas(self):\n",
        "        self.canvas.delete(\"all\")\n",
        "        self.image = Image.new(\"RGB\", (300, 300), \"black\")\n",
        "        self.draw_obj = ImageDraw.Draw(self.image)\n",
        "\n",
        "if __name__ == \"__main__\":\n",
        "    root = tk.Tk()\n",
        "    app = DrawingApp(root)\n",
        "    root.mainloop()"
      ],
      "metadata": {
        "id": "-kuKbWsWtoay"
      },
      "execution_count": null,
      "outputs": []
    },
    {
      "cell_type": "markdown",
      "source": [
        "Screenshot of this app:\n",
        "note: Tkinter requires a display to run and does not work properly within a Jupyter Notebook environment, so I had to run this section of code with another IDE.\n",
        "\n",
        "\n",
        "![image.png](data:image/png;base64,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)"
      ],
      "metadata": {
        "id": "Av31y_S51yyt"
      }
    },
    {
      "cell_type": "code",
      "source": [
        "image_path = \"letter_image.png\"\n",
        "image = Image.open(image_path).convert('L')\n",
        "transform = transforms.Compose([\n",
        "    transforms.ToTensor(),\n",
        "    transforms.Normalize((0.5,), (0.5,))\n",
        "])\n",
        "image_tensor = transform(image)\n",
        "image_tensor = image_tensor.unsqueeze(0)\n",
        "image_tensor = image_tensor.transpose(2, 3)\n",
        "\n",
        "model18.eval()\n",
        "device = torch.device('cuda' if torch.cuda.is_available() else 'cpu')\n",
        "with torch.no_grad():\n",
        "    output = model18(image_tensor)\n",
        "\n",
        "top_k = 3\n",
        "top_values, top_indices = torch.topk(output, top_k, dim=1)\n",
        "\n",
        "predicted_classes = top_indices[0] + 1  \n",
        "predicted_probabilities = torch.softmax(output, dim=1)[0][top_indices[0]]\n",
        "\n",
        "\n",
        "\n",
        "alphabet_upper = string.ascii_uppercase\n",
        "alphabet_lower = string.ascii_lowercase\n",
        "top_k = 3\n",
        "top_values, top_indices = torch.topk(output, top_k, dim=1)\n",
        "\n",
        "predicted_classes = top_indices[0] + 1  \n",
        "predicted_letters_upper = [alphabet_upper[index - 1] for index in predicted_classes]  \n",
        "predicted_letters_lower = [alphabet_lower[index - 1] for index in predicted_classes]\n",
        "predicted_probabilities = torch.softmax(output, dim=1)[0][top_indices[0]]\n",
        "\n",
        "print(\"Top 3 Predicted Letters:\")\n",
        "for i in range(top_k):\n",
        "    print(f\"Letter: {predicted_letters_upper[i]}/{predicted_letters_lower[i]}, Probability: {predicted_probabilities[i].item()}\")\n"
      ],
      "metadata": {
        "colab": {
          "base_uri": "https://localhost:8080/"
        },
        "id": "mZUOmTZAAddV",
        "outputId": "d5a6f274-374d-46cb-dffc-e10cbdac99e1"
      },
      "execution_count": null,
      "outputs": [
        {
          "output_type": "stream",
          "name": "stdout",
          "text": [
            "Top 3 Predicted Letters:\n",
            "Letter: P/p, Probability: 0.5573624968528748\n",
            "Letter: F/f, Probability: 0.1676221787929535\n",
            "Letter: Q/q, Probability: 0.052533794194459915\n"
          ]
        }
      ]
    },
    {
      "cell_type": "markdown",
      "source": [
        "Input image: \n",
        "\n",
        "![image.png](data:image/png;base64,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)"
      ],
      "metadata": {
        "id": "L0MBdKr82oV3"
      }
    },
    {
      "cell_type": "code",
      "source": [
        "image"
      ],
      "metadata": {
        "colab": {
          "base_uri": "https://localhost:8080/",
          "height": 45
        },
        "id": "hEVsaHzsxCsl",
        "outputId": "6904a264-cb15-4a42-d859-9bdb78334c48"
      },
      "execution_count": null,
      "outputs": [
        {
          "output_type": "execute_result",
          "data": {
            "text/plain": [
              "<PIL.Image.Image image mode=L size=28x28 at 0x7F7B05D5F8B0>"
            ],
            "image/png": "[encoded data removed]"
          },
          "metadata": {},
          "execution_count": 246
        }
      ]
    }
  ]
}