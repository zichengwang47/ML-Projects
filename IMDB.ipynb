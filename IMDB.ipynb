{
  "nbformat": 4,
  "nbformat_minor": 0,
  "metadata": {
    "colab": {
      "provenance": [],
      "toc_visible": true
    },
    "kernelspec": {
      "name": "python3",
      "display_name": "Python 3"
    },
    "language_info": {
      "name": "python"
    }
  },
  "cells": [
    {
      "cell_type": "markdown",
      "source": [
        "# Install and import necessary libraries"
      ],
      "metadata": {
        "id": "2jWOHGSShdaW"
      }
    },
    {
      "cell_type": "code",
      "execution_count": null,
      "metadata": {
        "colab": {
          "base_uri": "https://localhost:8080/"
        },
        "id": "OLRiweW-jXlM",
        "outputId": "32ae5f6d-104e-44b0-d2e1-5043e1a63659"
      },
      "outputs": [
        {
          "output_type": "stream",
          "name": "stdout",
          "text": [
            "Looking in indexes: https://pypi.org/simple, https://us-python.pkg.dev/colab-wheels/public/simple/\n",
            "Collecting portalocker>=2.0.0\n",
            "  Downloading portalocker-2.7.0-py2.py3-none-any.whl (15 kB)\n",
            "Installing collected packages: portalocker\n",
            "Successfully installed portalocker-2.7.0\n"
          ]
        }
      ],
      "source": [
        "pip install 'portalocker>=2.0.0'"
      ]
    },
    {
      "cell_type": "code",
      "source": [
        "pip install --upgrade torchtext"
      ],
      "metadata": {
        "colab": {
          "base_uri": "https://localhost:8080/"
        },
        "id": "IGZyoX2mkPbm",
        "outputId": "20e261ec-8537-4174-f0fc-1f5e26a5da03"
      },
      "execution_count": null,
      "outputs": [
        {
          "output_type": "stream",
          "name": "stdout",
          "text": [
            "Looking in indexes: https://pypi.org/simple, https://us-python.pkg.dev/colab-wheels/public/simple/\n",
            "Requirement already satisfied: torchtext in /usr/local/lib/python3.10/dist-packages (0.15.1)\n",
            "Collecting torchtext\n",
            "  Downloading torchtext-0.15.2-cp310-cp310-manylinux1_x86_64.whl (2.0 MB)\n",
            "\u001b[2K     \u001b[90m━━━━━━━━━━━━━━━━━━━━━━━━━━━━━━━━━━━━━━━━\u001b[0m \u001b[32m2.0/2.0 MB\u001b[0m \u001b[31m19.6 MB/s\u001b[0m eta \u001b[36m0:00:00\u001b[0m\n",
            "\u001b[?25hRequirement already satisfied: requests in /usr/local/lib/python3.10/dist-packages (from torchtext) (2.27.1)\n",
            "Collecting torch==2.0.1\n",
            "  Downloading torch-2.0.1-cp310-cp310-manylinux1_x86_64.whl (619.9 MB)\n",
            "\u001b[2K     \u001b[90m━━━━━━━━━━━━━━━━━━━━━━━━━━━━━━━━━━━━━━━\u001b[0m \u001b[32m619.9/619.9 MB\u001b[0m \u001b[31m1.6 MB/s\u001b[0m eta \u001b[36m0:00:00\u001b[0m\n",
            "\u001b[?25hCollecting torchdata==0.6.1\n",
            "  Downloading torchdata-0.6.1-cp310-cp310-manylinux_2_17_x86_64.manylinux2014_x86_64.whl (4.6 MB)\n",
            "\u001b[2K     \u001b[90m━━━━━━━━━━━━━━━━━━━━━━━━━━━━━━━━━━━━━━━━\u001b[0m \u001b[32m4.6/4.6 MB\u001b[0m \u001b[31m75.1 MB/s\u001b[0m eta \u001b[36m0:00:00\u001b[0m\n",
            "\u001b[?25hRequirement already satisfied: tqdm in /usr/local/lib/python3.10/dist-packages (from torchtext) (4.65.0)\n",
            "Requirement already satisfied: numpy in /usr/local/lib/python3.10/dist-packages (from torchtext) (1.22.4)\n",
            "Requirement already satisfied: typing-extensions in /usr/local/lib/python3.10/dist-packages (from torch==2.0.1->torchtext) (4.5.0)\n",
            "Collecting nvidia-cuda-nvrtc-cu11==11.7.99\n",
            "  Downloading nvidia_cuda_nvrtc_cu11-11.7.99-2-py3-none-manylinux1_x86_64.whl (21.0 MB)\n",
            "\u001b[2K     \u001b[90m━━━━━━━━━━━━━━━━━━━━━━━━━━━━━━━━━━━━━━━━\u001b[0m \u001b[32m21.0/21.0 MB\u001b[0m \u001b[31m57.7 MB/s\u001b[0m eta \u001b[36m0:00:00\u001b[0m\n",
            "\u001b[?25hCollecting nvidia-cublas-cu11==11.10.3.66\n",
            "  Downloading nvidia_cublas_cu11-11.10.3.66-py3-none-manylinux1_x86_64.whl (317.1 MB)\n",
            "\u001b[2K     \u001b[90m━━━━━━━━━━━━━━━━━━━━━━━━━━━━━━━━━━━━━━━\u001b[0m \u001b[32m317.1/317.1 MB\u001b[0m \u001b[31m4.7 MB/s\u001b[0m eta \u001b[36m0:00:00\u001b[0m\n",
            "\u001b[?25hCollecting nvidia-cufft-cu11==10.9.0.58\n",
            "  Downloading nvidia_cufft_cu11-10.9.0.58-py3-none-manylinux1_x86_64.whl (168.4 MB)\n",
            "\u001b[2K     \u001b[90m━━━━━━━━━━━━━━━━━━━━━━━━━━━━━━━━━━━━━━━\u001b[0m \u001b[32m168.4/168.4 MB\u001b[0m \u001b[31m6.7 MB/s\u001b[0m eta \u001b[36m0:00:00\u001b[0m\n",
            "\u001b[?25hCollecting nvidia-cusparse-cu11==11.7.4.91\n",
            "  Downloading nvidia_cusparse_cu11-11.7.4.91-py3-none-manylinux1_x86_64.whl (173.2 MB)\n",
            "\u001b[2K     \u001b[90m━━━━━━━━━━━━━━━━━━━━━━━━━━━━━━━━━━━━━━━\u001b[0m \u001b[32m173.2/173.2 MB\u001b[0m \u001b[31m7.9 MB/s\u001b[0m eta \u001b[36m0:00:00\u001b[0m\n",
            "\u001b[?25hCollecting nvidia-cudnn-cu11==8.5.0.96\n",
            "  Downloading nvidia_cudnn_cu11-8.5.0.96-2-py3-none-manylinux1_x86_64.whl (557.1 MB)\n",
            "\u001b[2K     \u001b[90m━━━━━━━━━━━━━━━━━━━━━━━━━━━━━━━━━━━━━━━\u001b[0m \u001b[32m557.1/557.1 MB\u001b[0m \u001b[31m2.2 MB/s\u001b[0m eta \u001b[36m0:00:00\u001b[0m\n",
            "\u001b[?25hRequirement already satisfied: jinja2 in /usr/local/lib/python3.10/dist-packages (from torch==2.0.1->torchtext) (3.1.2)\n",
            "Collecting nvidia-cuda-runtime-cu11==11.7.99\n",
            "  Downloading nvidia_cuda_runtime_cu11-11.7.99-py3-none-manylinux1_x86_64.whl (849 kB)\n",
            "\u001b[2K     \u001b[90m━━━━━━━━━━━━━━━━━━━━━━━━━━━━━━━━━━━━━━\u001b[0m \u001b[32m849.3/849.3 kB\u001b[0m \u001b[31m42.8 MB/s\u001b[0m eta \u001b[36m0:00:00\u001b[0m\n",
            "\u001b[?25hCollecting nvidia-curand-cu11==10.2.10.91\n",
            "  Downloading nvidia_curand_cu11-10.2.10.91-py3-none-manylinux1_x86_64.whl (54.6 MB)\n",
            "\u001b[2K     \u001b[90m━━━━━━━━━━━━━━━━━━━━━━━━━━━━━━━━━━━━━━━━\u001b[0m \u001b[32m54.6/54.6 MB\u001b[0m \u001b[31m13.3 MB/s\u001b[0m eta \u001b[36m0:00:00\u001b[0m\n",
            "\u001b[?25hCollecting nvidia-nccl-cu11==2.14.3\n",
            "  Downloading nvidia_nccl_cu11-2.14.3-py3-none-manylinux1_x86_64.whl (177.1 MB)\n",
            "\u001b[2K     \u001b[90m━━━━━━━━━━━━━━━━━━━━━━━━━━━━━━━━━━━━━━━\u001b[0m \u001b[32m177.1/177.1 MB\u001b[0m \u001b[31m5.9 MB/s\u001b[0m eta \u001b[36m0:00:00\u001b[0m\n",
            "\u001b[?25hRequirement already satisfied: sympy in /usr/local/lib/python3.10/dist-packages (from torch==2.0.1->torchtext) (1.11.1)\n",
            "Requirement already satisfied: networkx in /usr/local/lib/python3.10/dist-packages (from torch==2.0.1->torchtext) (3.1)\n",
            "Requirement already satisfied: triton==2.0.0 in /usr/local/lib/python3.10/dist-packages (from torch==2.0.1->torchtext) (2.0.0)\n",
            "Collecting nvidia-cuda-cupti-cu11==11.7.101\n",
            "  Downloading nvidia_cuda_cupti_cu11-11.7.101-py3-none-manylinux1_x86_64.whl (11.8 MB)\n",
            "\u001b[2K     \u001b[90m━━━━━━━━━━━━━━━━━━━━━━━━━━━━━━━━━━━━━━━━\u001b[0m \u001b[32m11.8/11.8 MB\u001b[0m \u001b[31m63.0 MB/s\u001b[0m eta \u001b[36m0:00:00\u001b[0m\n",
            "\u001b[?25hCollecting nvidia-cusolver-cu11==11.4.0.1\n",
            "  Downloading nvidia_cusolver_cu11-11.4.0.1-2-py3-none-manylinux1_x86_64.whl (102.6 MB)\n",
            "\u001b[2K     \u001b[90m━━━━━━━━━━━━━━━━━━━━━━━━━━━━━━━━━━━━━━━\u001b[0m \u001b[32m102.6/102.6 MB\u001b[0m \u001b[31m6.3 MB/s\u001b[0m eta \u001b[36m0:00:00\u001b[0m\n",
            "\u001b[?25hRequirement already satisfied: filelock in /usr/local/lib/python3.10/dist-packages (from torch==2.0.1->torchtext) (3.12.0)\n",
            "Collecting nvidia-nvtx-cu11==11.7.91\n",
            "  Downloading nvidia_nvtx_cu11-11.7.91-py3-none-manylinux1_x86_64.whl (98 kB)\n",
            "\u001b[2K     \u001b[90m━━━━━━━━━━━━━━━━━━━━━━━━━━━━━━━━━━━━━━━━\u001b[0m \u001b[32m98.6/98.6 kB\u001b[0m \u001b[31m10.2 MB/s\u001b[0m eta \u001b[36m0:00:00\u001b[0m\n",
            "\u001b[?25hRequirement already satisfied: urllib3>=1.25 in /usr/local/lib/python3.10/dist-packages (from torchdata==0.6.1->torchtext) (1.26.15)\n",
            "Requirement already satisfied: setuptools in /usr/local/lib/python3.10/dist-packages (from nvidia-cublas-cu11==11.10.3.66->torch==2.0.1->torchtext) (67.7.2)\n",
            "Requirement already satisfied: wheel in /usr/local/lib/python3.10/dist-packages (from nvidia-cublas-cu11==11.10.3.66->torch==2.0.1->torchtext) (0.40.0)\n",
            "Requirement already satisfied: cmake in /usr/local/lib/python3.10/dist-packages (from triton==2.0.0->torch==2.0.1->torchtext) (3.25.2)\n",
            "Requirement already satisfied: lit in /usr/local/lib/python3.10/dist-packages (from triton==2.0.0->torch==2.0.1->torchtext) (16.0.2)\n",
            "Requirement already satisfied: certifi>=2017.4.17 in /usr/local/lib/python3.10/dist-packages (from requests->torchtext) (2022.12.7)\n",
            "Requirement already satisfied: idna<4,>=2.5 in /usr/local/lib/python3.10/dist-packages (from requests->torchtext) (3.4)\n",
            "Requirement already satisfied: charset-normalizer~=2.0.0 in /usr/local/lib/python3.10/dist-packages (from requests->torchtext) (2.0.12)\n",
            "Requirement already satisfied: MarkupSafe>=2.0 in /usr/local/lib/python3.10/dist-packages (from jinja2->torch==2.0.1->torchtext) (2.1.2)\n",
            "Requirement already satisfied: mpmath>=0.19 in /usr/local/lib/python3.10/dist-packages (from sympy->torch==2.0.1->torchtext) (1.3.0)\n",
            "Installing collected packages: nvidia-nvtx-cu11, nvidia-nccl-cu11, nvidia-cusparse-cu11, nvidia-curand-cu11, nvidia-cufft-cu11, nvidia-cuda-runtime-cu11, nvidia-cuda-nvrtc-cu11, nvidia-cuda-cupti-cu11, nvidia-cublas-cu11, nvidia-cusolver-cu11, nvidia-cudnn-cu11, torch, torchdata, torchtext\n",
            "  Attempting uninstall: torch\n",
            "    Found existing installation: torch 2.0.0+cu118\n",
            "    Uninstalling torch-2.0.0+cu118:\n",
            "      Successfully uninstalled torch-2.0.0+cu118\n",
            "  Attempting uninstall: torchdata\n",
            "    Found existing installation: torchdata 0.6.0\n",
            "    Uninstalling torchdata-0.6.0:\n",
            "      Successfully uninstalled torchdata-0.6.0\n",
            "  Attempting uninstall: torchtext\n",
            "    Found existing installation: torchtext 0.15.1\n",
            "    Uninstalling torchtext-0.15.1:\n",
            "      Successfully uninstalled torchtext-0.15.1\n",
            "\u001b[31mERROR: pip's dependency resolver does not currently take into account all the packages that are installed. This behaviour is the source of the following dependency conflicts.\n",
            "torchvision 0.15.1+cu118 requires torch==2.0.0, but you have torch 2.0.1 which is incompatible.\n",
            "torchaudio 2.0.1+cu118 requires torch==2.0.0, but you have torch 2.0.1 which is incompatible.\u001b[0m\u001b[31m\n",
            "\u001b[0mSuccessfully installed nvidia-cublas-cu11-11.10.3.66 nvidia-cuda-cupti-cu11-11.7.101 nvidia-cuda-nvrtc-cu11-11.7.99 nvidia-cuda-runtime-cu11-11.7.99 nvidia-cudnn-cu11-8.5.0.96 nvidia-cufft-cu11-10.9.0.58 nvidia-curand-cu11-10.2.10.91 nvidia-cusolver-cu11-11.4.0.1 nvidia-cusparse-cu11-11.7.4.91 nvidia-nccl-cu11-2.14.3 nvidia-nvtx-cu11-11.7.91 torch-2.0.1 torchdata-0.6.1 torchtext-0.15.2\n"
          ]
        }
      ]
    },
    {
      "cell_type": "code",
      "source": [
        "import torch\n",
        "import torch.nn as nn\n",
        "import torchtext\n",
        "from torchtext.datasets import IMDB\n",
        "from torchtext.data.utils import get_tokenizer\n",
        "from torchtext.vocab import vocab\n",
        "from torch.utils.data import Dataset, DataLoader, TensorDataset\n",
        "import numpy as np\n",
        "import collections\n",
        "import torch.optim as optim\n",
        "import torch.nn.functional as F\n",
        "import matplotlib.pyplot as plt\n",
        "import urllib.request\n",
        "import os\n",
        "import tarfile"
      ],
      "metadata": {
        "id": "dnKjqGjijeTn"
      },
      "execution_count": null,
      "outputs": []
    },
    {
      "cell_type": "markdown",
      "source": [
        "# Load the IMDB dataset"
      ],
      "metadata": {
        "id": "QoL_2eEAhwYc"
      }
    },
    {
      "cell_type": "code",
      "source": [
        "url = \"http://ai.stanford.edu/~amaas/data/sentiment/aclImdb_v1.tar.gz\"\n",
        "filename = \"aclImdb_v1.tar.gz\"\n",
        "if not os.path.isfile(filename):\n",
        "    urllib.request.urlretrieve(url, filename)\n",
        "\n",
        "if not os.path.isdir(\"aclImdb\"):\n",
        "    with tarfile.open(filename, \"r:gz\") as tar:\n",
        "        tar.extractall()\n"
      ],
      "metadata": {
        "id": "L3-H2b_e46cN"
      },
      "execution_count": null,
      "outputs": []
    },
    {
      "cell_type": "code",
      "source": [
        "dataset_dir = \"aclImdb\"\n",
        "\n",
        "labels = {\n",
        "    \"pos\": 1,\n",
        "    \"neg\": 0\n",
        "}\n",
        "\n",
        "train_dataset = []\n",
        "test_dataset = []\n",
        "\n",
        "for label, sentiment in labels.items():\n",
        "    dir_path = os.path.join(dataset_dir, \"train\", label)\n",
        "    file_list = os.listdir(dir_path)\n",
        "    \n",
        "    for filename in file_list:\n",
        "        file_path = os.path.join(dir_path, filename)\n",
        "        \n",
        "        with open(file_path, \"r\") as f:\n",
        "            text = f.read()\n",
        "\n",
        "        train_dataset.append((sentiment, text))\n",
        "\n",
        "\n",
        "for label, sentiment in labels.items():\n",
        "    dir_path = os.path.join(dataset_dir, \"test\", label)\n",
        "    file_list = os.listdir(dir_path)\n",
        "    \n",
        "    i = 0\n",
        "    for filename in file_list:\n",
        "        file_path = os.path.join(dir_path, filename)\n",
        "        \n",
        "        with open(file_path, \"r\") as f:\n",
        "            text = f.read()\n",
        "\n",
        "        test_dataset.append((sentiment, text))\n",
        "        i = i + 1\n",
        "        if i == 2500:\n",
        "          break"
      ],
      "metadata": {
        "id": "zQvZOpyV5n4a"
      },
      "execution_count": null,
      "outputs": []
    },
    {
      "cell_type": "code",
      "source": [
        "print(len(train_dataset))\n",
        "for label, text in test_dataset:\n",
        "  if label == 0:\n",
        "    print(text)\n",
        "    break\n",
        "for label, text in test_dataset:\n",
        "  if label == 1:\n",
        "    print(text)\n",
        "    break"
      ],
      "metadata": {
        "colab": {
          "base_uri": "https://localhost:8080/"
        },
        "id": "dwImTLCk5qpE",
        "outputId": "6bd73e53-fb46-4eb5-cea6-56021630c34c"
      },
      "execution_count": null,
      "outputs": [
        {
          "output_type": "stream",
          "name": "stdout",
          "text": [
            "25000\n",
            "European films may be slower-paced and less plot driven than American films, but this takes it way too far. It also show a whole bunch of incompletely drawn characters doing inexplicable things. It's not fantasy, it's not even surreal, it's just awkward and bad.<br /><br />What's the message here? That people in France are pensive and gaze morosely a lot? That they like to watch other people having sex? They they spontaneously scream or touch a stranger on his neck? Do not wear a watch when seeing this film, as you will be astonished at how little is explained or learned over huge stretches of time.<br /><br />This is the story of a \"police superintendent\" who is deeply troubled by the brutal murder of a little girl, though actually he seems troubled before then. He is not merely upset at his own personal tragedies, but apparently mentally quite slow, behaving very much like a learning-disabled six-year old child. He stares blankly a lot, walks with arms rigid like a little kid, speaks in meek, simpering, tones, behaves quite oddly in all of his interactions (though no one seems to notice or care, even when it is supposed to be police business). He's not a troubled cop, more of an outpatient. Picture Andy Kaufman's Latka character on Taxi, but without the humor. He is not only not believable as a policeman he is not believable as an adult. That he won an award for this interpretation of his character is truly amazing -- unless he was playing the part exactly as written and the fault lies with the weirdos who scripted this thing. The plot is clearly secondary. Do not expect to see anything remotely like what police would do if a little girl was found murdered. This not that important, though the implausibility of their behavior is sort of insulting. The problem is that the rest of the film makes no sense either. That leaves the long lingering close-ups of fields, vegetable gardens, people's faces etc. The ending struck me as especially ridiculous -- totally unsupported by the events leading up to it -- unless you think, \"What's the worst way this film could end?\"<br /><br />There is lots of sex and nudity, which is supposed to mean something. You want vaginas? You'll see vaginas. Not to worry, it's art. It has deep meaning, what I am not sure. And the protagonist, despite his innocent weirdness, seems to have some sort of homoerotic neck or jowl fetish.<br /><br />Finally, the subtitles are in white and frequently appear on a white background -- very hard to read many of them. On the other hand, there isn't much dialogue, so this isn't a big problem. There is also very little sound -- not even ambient sounds you would expect to hear -- in the film, contributing to the emptiness of the whole experience. The old Woody Allen would have had a field day parodying this work.<br /><br />That this is an award-winning film is sad. I would hate to see the losing films.<br /><br />Enjoy.\n",
            "From the first to the last scene of the movie, director Visconti excels at his art, to the extent that the movie is ensured to remain as a cultural treasure for only God knows how long. It is perfection - as a movie, that is, but the story has some minor shortcomings.<br /><br />Thomas Mann's novel is also a perfect piece of art, so of course it is impossible to bring into another media. Visconti follows the story pretty much, and it is only when he allows himself to deviate slightly, that the transition falters. And no matter how wonderful the scenery is, the tension in the air between the characters, the hundreds of subtle signals and allegories, the almost unbearably heightened serving of Mahler's music - still, the minute anomalies in the plot disturb me.<br /><br />Maybe I'm just a victim of man's desire to flaw the flawless. Nevertheless, I will offer one example, which I regard as crucial.<br /><br />WARNING: SPOILERS<br /><br />In Mann's story, Aschenbach eats the strawberries which probably contain the disease that will kill him, after giving up his frustrated chase of the boy Tadzio in Venice. Unable to catch one delight, he settles for another - which poisons him. It is very subtle in the book, but it is there. The forbidden fruit, of sorts, but more a sign of him surrendering life itself.<br /><br />In Visconti's film, he also eats strawberries, but in a rather insignificant scene by the beach. The chase in Venice ends in a much more melodramatic way. It works, too, but lacks some subtlety, indeed, and also the multi-layered symbolism, giving food for thought.<br /><br />But that's all forgiven, when the film allows us to feast on beautiful sceneries, faces and constellations, and certainly as many other symbols as we can possibly digest - the last gesture of Tadzio, standing in the water, being the equally sublime and mysterious finale.\n"
          ]
        }
      ]
    },
    {
      "cell_type": "markdown",
      "source": [
        "# Preprocess data"
      ],
      "metadata": {
        "id": "3L3pXPOwh7CF"
      }
    },
    {
      "cell_type": "code",
      "source": [
        "''' Alternative way to define max_len\n",
        "lengths = [len(tokenizer(text.lower())) for _, text in train_dataset]\n",
        "percentile = 90\n",
        "max_sequence_length = int(np.percentile(lengths, percentile))\n",
        "'''\n",
        "\n",
        "max_sequence_length = 200\n",
        "tokenizer = get_tokenizer('basic_english')\n",
        "counter = collections.Counter()\n",
        "for label,text in train_dataset:\n",
        "    tokens = tokenizer(text.lower())\n",
        "    counter.update(tokens)\n",
        "\n",
        "dictionary = vocab(counter, specials=['<unk>', '<pad>'])\n",
        "\n",
        "\n",
        "def tokenize_and_numericalize(data, max_length=None, pad_token='<pad>', unk_token='<unk>'):\n",
        "    tokenized_data = []\n",
        "    for label, text in data:\n",
        "        tokens = tokenizer(text.lower())\n",
        "        token_ids = []\n",
        "        for token in tokens:\n",
        "            if token in dictionary:\n",
        "                token_id = dictionary[token]\n",
        "            else:\n",
        "                token_id = dictionary[unk_token]\n",
        "            token_ids.append(token_id)\n",
        "\n",
        "        if max_length:\n",
        "            token_ids = token_ids[:max_length] + [dictionary[pad_token]] * (max_length - len(token_ids))\n",
        "\n",
        "        tokenized_data.append((token_ids, label))\n",
        "    return tokenized_data\n",
        "\n",
        "train_data = tokenize_and_numericalize(train_dataset, max_length=max_sequence_length)\n",
        "test_data = tokenize_and_numericalize(test_dataset, max_length=max_sequence_length)"
      ],
      "metadata": {
        "id": "OwWmAOPgjhJl"
      },
      "execution_count": null,
      "outputs": []
    },
    {
      "cell_type": "code",
      "source": [
        "i = 0\n",
        "for input, label  in train_data:\n",
        "  print(label)\n",
        "  print(input)\n",
        "  i = i + 1\n",
        "  if i == 4:\n",
        "    break"
      ],
      "metadata": {
        "colab": {
          "base_uri": "https://localhost:8080/"
        },
        "id": "ONtPD9u5OqxQ",
        "outputId": "c18d2551-bfb3-4a89-ffb7-b196dc85c183"
      },
      "execution_count": null,
      "outputs": [
        {
          "output_type": "stream",
          "name": "stdout",
          "text": [
            "1\n",
            "[2, 3, 4, 5, 6, 7, 8, 9, 10, 11, 12, 4, 13, 14, 8, 15, 16, 17, 18, 19, 17, 20, 16, 2, 3, 4, 11, 21, 22, 23, 18, 24, 25, 26, 27, 28, 29, 30, 16, 19, 31, 14, 5, 32, 8, 33, 34, 35, 36, 19, 11, 37, 16, 17, 11, 38, 39, 27, 40, 41, 8, 42, 3, 43, 17, 44, 11, 45, 16, 46, 47, 48, 49, 40, 8, 39, 7, 50, 11, 51, 52, 8, 53, 54, 55, 56, 57, 58, 59, 60, 61, 62, 63, 64, 65, 66, 67, 2, 4, 11, 66, 3, 68, 8, 66, 34, 16, 69, 70, 71, 72, 73, 74, 75, 76, 77, 71, 72, 78, 79, 80, 81, 17, 82, 16, 83, 40, 84, 85, 86, 1, 1, 1, 1, 1, 1, 1, 1, 1, 1, 1, 1, 1, 1, 1, 1, 1, 1, 1, 1, 1, 1, 1, 1, 1, 1, 1, 1, 1, 1, 1, 1, 1, 1, 1, 1, 1, 1, 1, 1, 1, 1, 1, 1, 1, 1, 1, 1, 1, 1, 1, 1, 1, 1, 1, 1, 1, 1, 1, 1, 1, 1, 1, 1, 1, 1, 1, 1, 1, 1]\n",
            "1\n",
            "[87, 4, 88, 65, 89, 90, 8, 91, 92, 93, 65, 94, 60, 8, 95, 40, 96, 11, 97, 98, 65, 11, 99, 100, 101, 16, 43, 102, 103, 104, 105, 106, 107, 17, 108, 16, 109, 110, 111, 60, 8, 92, 112, 8, 113, 114, 115, 107, 8, 116, 94, 60, 74, 117, 118, 119, 16, 8, 95, 4, 44, 11, 120, 94, 43, 121, 4, 52, 122, 27, 123, 94, 60, 124, 125, 4, 126, 65, 8, 127, 81, 19, 128, 129, 130, 16, 131, 132, 71, 133, 134, 135, 136, 4, 11, 137, 138, 94, 43, 139, 140, 60, 134, 141, 142, 143, 144, 145, 16, 146, 81, 147, 148, 79, 11, 149, 150, 151, 60, 115, 152, 16, 153, 154, 68, 155, 156, 157, 158, 65, 11, 137, 136, 60, 11, 159, 16, 8, 3, 160, 8, 161, 7, 162, 81, 8, 163, 164, 165, 4, 166, 167, 68, 16, 168, 40, 41, 2, 3, 169, 11, 170, 171, 16, 1, 1, 1, 1, 1, 1, 1, 1, 1, 1, 1, 1, 1, 1, 1, 1, 1, 1, 1, 1, 1, 1, 1, 1, 1, 1, 1, 1, 1, 1, 1, 1, 1, 1, 1, 1]\n",
            "1\n",
            "[134, 94, 172, 94, 173, 174, 94, 175, 176, 177, 62, 168, 178, 179, 180, 8, 181, 182, 71, 133, 65, 67, 16, 2, 183, 11, 134, 184, 68, 185, 186, 19, 18, 81, 187, 188, 101, 129, 189, 7, 190, 16, 11, 191, 18, 192, 193, 194, 195, 196, 94, 197, 198, 199, 16, 200, 94, 201, 134, 202, 94, 183, 49, 134, 65, 203, 134, 94, 43, 204, 191, 18, 62, 205, 206, 207, 208, 209, 67, 16, 210, 211, 71, 212, 213, 214, 16, 215, 216, 71, 72, 217, 218, 11, 219, 68, 2, 16, 8, 197, 220, 221, 222, 223, 224, 214, 62, 225, 226, 227, 94, 228, 16, 67, 16, 75, 76, 71, 229, 41, 5, 214, 18, 94, 76, 71, 229, 41, 230, 231, 232, 233, 210, 234, 129, 235, 27, 236, 52, 237, 8, 238, 16, 239, 16, 240, 241, 4, 11, 3, 168, 71, 229, 242, 243, 171, 16, 176, 177, 244, 105, 8, 245, 246, 68, 247, 248, 16, 1, 1, 1, 1, 1, 1, 1, 1, 1, 1, 1, 1, 1, 1, 1, 1, 1, 1, 1, 1, 1, 1, 1, 1, 1, 1, 1, 1, 1, 1, 1, 1]\n",
            "1\n",
            "[11, 249, 3, 85, 250, 251, 226, 65, 252, 253, 92, 254, 255, 73, 256, 65, 257, 258, 16, 11, 134, 92, 3, 79, 259, 94, 260, 94, 81, 201, 134, 261, 237, 231, 16, 76, 254, 262, 2, 3, 85, 85, 263, 264, 31, 180, 74, 16, 1, 1, 1, 1, 1, 1, 1, 1, 1, 1, 1, 1, 1, 1, 1, 1, 1, 1, 1, 1, 1, 1, 1, 1, 1, 1, 1, 1, 1, 1, 1, 1, 1, 1, 1, 1, 1, 1, 1, 1, 1, 1, 1, 1, 1, 1, 1, 1, 1, 1, 1, 1, 1, 1, 1, 1, 1, 1, 1, 1, 1, 1, 1, 1, 1, 1, 1, 1, 1, 1, 1, 1, 1, 1, 1, 1, 1, 1, 1, 1, 1, 1, 1, 1, 1, 1, 1, 1, 1, 1, 1, 1, 1, 1, 1, 1, 1, 1, 1, 1, 1, 1, 1, 1, 1, 1, 1, 1, 1, 1, 1, 1, 1, 1, 1, 1, 1, 1, 1, 1, 1, 1, 1, 1, 1, 1, 1, 1, 1, 1, 1, 1, 1, 1, 1, 1, 1, 1, 1, 1, 1, 1, 1, 1, 1, 1, 1, 1, 1, 1, 1, 1]\n"
          ]
        }
      ]
    },
    {
      "cell_type": "code",
      "source": [
        "def create_tensor_dataset(data):\n",
        "    input_data = [item[0] for item in data]\n",
        "    labels = [item[1] for item in data]\n",
        "\n",
        "    input_tensor = torch.tensor(input_data, dtype=torch.long)\n",
        "    label_tensor = torch.tensor(labels, dtype=torch.long)\n",
        "\n",
        "    return TensorDataset(input_tensor, label_tensor)\n",
        "\n",
        "train_tensor_dataset = create_tensor_dataset(train_data)\n",
        "test_tensor_dataset = create_tensor_dataset(test_data)\n",
        "\n",
        "batch_size = 32\n",
        "\n",
        "train_dataloader = DataLoader(train_tensor_dataset, batch_size=batch_size, shuffle=True)\n",
        "test_dataloader = DataLoader(test_tensor_dataset, batch_size=batch_size, shuffle=False)"
      ],
      "metadata": {
        "id": "nCMjGfcZ_rCy"
      },
      "execution_count": null,
      "outputs": []
    },
    {
      "cell_type": "code",
      "source": [
        "i = 0\n",
        "for input, label  in train_dataloader:\n",
        "  print(label)\n",
        "  print(input)\n",
        "  i = i + 1\n",
        "  if i == 4:\n",
        "    break"
      ],
      "metadata": {
        "colab": {
          "base_uri": "https://localhost:8080/"
        },
        "id": "KXVMHxC7O8nE",
        "outputId": "e52bff85-f82f-4de9-dc1e-4b472cd7dc14"
      },
      "execution_count": null,
      "outputs": [
        {
          "output_type": "stream",
          "name": "stdout",
          "text": [
            "tensor([1, 1, 1, 0, 1, 0, 1, 1, 1, 1, 1, 1, 0, 0, 0, 1, 1, 0, 1, 0, 0, 0, 1, 0,\n",
            "        1, 1, 0, 0, 1, 0, 1, 1])\n",
            "tensor([[  168,   457,  1548,  ...,     1,     1,     1],\n",
            "        [  168,  2115,     2,  ...,    79,   433,    68],\n",
            "        [  168,   224,  1699,  ...,     1,     1,     1],\n",
            "        ...,\n",
            "        [   90,   168,   183,  ...,     1,     1,     1],\n",
            "        [  346,    11,  2770,  ...,     1,     1,     1],\n",
            "        [  203, 15637, 35285,  ...,     1,     1,     1]])\n",
            "tensor([0, 1, 0, 1, 1, 1, 1, 1, 1, 0, 0, 0, 0, 0, 0, 0, 0, 0, 0, 1, 0, 1, 0, 1,\n",
            "        1, 0, 0, 0, 1, 1, 1, 1])\n",
            "tensor([[    2, 12908,    18,  ...,     1,     1,     1],\n",
            "        [54812, 52286,    94,  ...,     1,     1,     1],\n",
            "        [  168,    40,    41,  ...,     1,     1,     1],\n",
            "        ...,\n",
            "        [   71,  7344,  4798,  ...,     7,  4396,    60],\n",
            "        [14470,  3653,    62,  ...,    62,   211,   223],\n",
            "        [11328,  8329,    81,  ...,     8, 63470, 14589]])\n",
            "tensor([0, 1, 0, 0, 0, 1, 1, 0, 0, 0, 0, 0, 1, 0, 1, 0, 0, 1, 0, 0, 1, 0, 0, 0,\n",
            "        0, 1, 1, 1, 1, 0, 0, 1])\n",
            "tensor([[ 1680, 37245,   183,  ...,  1343,    10,  2041],\n",
            "        [  168,  3233, 22091,  ...,     1,     1,     1],\n",
            "        [  168,   962,     2,  ...,     1,     1,     1],\n",
            "        ...,\n",
            "        [20116, 35404,  1799,  ...,  3440,     4,   780],\n",
            "        [  805,     8,  2968,  ...,     1,     1,     1],\n",
            "        [ 2173,   619,   599,  ...,    16,     8,   444]])\n",
            "tensor([1, 1, 0, 1, 0, 1, 0, 0, 1, 0, 1, 0, 1, 0, 0, 1, 0, 1, 0, 0, 1, 1, 0, 0,\n",
            "        0, 1, 1, 1, 0, 1, 1, 0])\n",
            "tensor([[13062,  4699,  1703,  ...,   125,     4,    65],\n",
            "        [ 6072,  2776,  8446,  ...,  2733,  7651, 12783],\n",
            "        [ 4662, 74167, 74168,  ...,     1,     1,     1],\n",
            "        ...,\n",
            "        [    2,     4,  1785,  ...,     1,     1,     1],\n",
            "        [   90,   252, 13550,  ...,     1,     1,     1],\n",
            "        [30688,   202,   105,  ...,  2435,   459,     8]])\n"
          ]
        }
      ]
    },
    {
      "cell_type": "markdown",
      "source": [
        "# Develop the GRU layer and GRNN model"
      ],
      "metadata": {
        "id": "dXT-OtyniBUS"
      }
    },
    {
      "cell_type": "code",
      "source": [
        "class GRU(nn.Module):\n",
        "    def __init__(self, input_size, hidden_size):\n",
        "        super(GRU, self).__init__()\n",
        "        self.hidden_size = hidden_size\n",
        "\n",
        "        self.W_xz = nn.Parameter(torch.randn(input_size, hidden_size))\n",
        "        self.W_hz = nn.Parameter(torch.randn(hidden_size, hidden_size))\n",
        "        self.b_z = nn.Parameter(torch.zeros(hidden_size))\n",
        "\n",
        "        self.W_xr = nn.Parameter(torch.randn(input_size, hidden_size))\n",
        "        self.W_hr = nn.Parameter(torch.randn(hidden_size, hidden_size))\n",
        "        self.b_r = nn.Parameter(torch.zeros(hidden_size))\n",
        "\n",
        "        self.W_xh = nn.Parameter(torch.randn(input_size, hidden_size))\n",
        "        self.W_hh = nn.Parameter(torch.randn(hidden_size, hidden_size))\n",
        "        self.b_h = nn.Parameter(torch.zeros(hidden_size))\n",
        "\n",
        "        self.init_weights()\n",
        "\n",
        "    def init_weights(self):\n",
        "        for param in self.parameters():\n",
        "            if param.dim() > 1:\n",
        "                nn.init.xavier_uniform_(param)\n",
        "\n",
        "    def forward(self, x):\n",
        "        h = torch.zeros(x.size(0), self.hidden_size, device=x.device)\n",
        "\n",
        "        for t in range(x.size(1)):\n",
        "            z = torch.sigmoid(x[:, t] @ self.W_xz + h @ self.W_hz + self.b_z)\n",
        "\n",
        "            r = torch.sigmoid(x[:, t] @ self.W_xr + h @ self.W_hr + self.b_r)\n",
        "\n",
        "            h_tilde = torch.tanh(x[:, t] @ self.W_xh + (r * h) @ self.W_hh + self.b_h)\n",
        "\n",
        "            h = (1 - z) * h + z * h_tilde\n",
        "\n",
        "        return h"
      ],
      "metadata": {
        "id": "aSkQs3GyBXfv"
      },
      "execution_count": null,
      "outputs": []
    },
    {
      "cell_type": "code",
      "source": [
        "class Model(nn.Module):\n",
        "    def __init__(self, vocab_size = len(dictionary), embed_size = 30, input_size = 30, hidden_size = 30, intermediate_size = 30):\n",
        "        super(Model, self).__init__()\n",
        "        self.embedding = nn.Embedding(vocab_size, embed_size)\n",
        "        self.gru = nn.GRU(input_size, hidden_size, batch_first=True)\n",
        "        self.fc1 = nn.Linear(hidden_size, intermediate_size)\n",
        "        self.relu = nn.ReLU()\n",
        "        self.fc2 = nn.Linear(intermediate_size, 1)\n",
        "\n",
        "    def forward(self, x):\n",
        "        x = self.embedding(x)\n",
        "        _, h = self.gru(x)\n",
        "        h = h.squeeze(0)\n",
        "        out = self.fc1(h)\n",
        "        out = self.relu(out)\n",
        "        out = self.fc2(out)\n",
        "        out = torch.sigmoid(out)\n",
        "\n",
        "        return out.squeeze()"
      ],
      "metadata": {
        "id": "kL8tdjzFP0zt"
      },
      "execution_count": null,
      "outputs": []
    },
    {
      "cell_type": "markdown",
      "source": [
        "# Train and evaluate the model"
      ],
      "metadata": {
        "id": "GdVMwi9OiJ9O"
      }
    },
    {
      "cell_type": "code",
      "source": [
        "def train(model, train_dataloader, test_dataloader, epochs, learning_rate, early_stopping_patience):\n",
        "    device = torch.device(\"cuda\" if torch.cuda.is_available() else \"cpu\")\n",
        "    model.to(device)\n",
        "\n",
        "    optimizer = optim.Adam(model.parameters(), lr=learning_rate)\n",
        "    criterion = nn.BCELoss()\n",
        "\n",
        "    train_losses = []\n",
        "    test_losses = []\n",
        "    best_test_loss = float('inf')\n",
        "    patience_counter = 0\n",
        "\n",
        "    for epoch in range(epochs):\n",
        "        model.train()\n",
        "        train_loss = 0\n",
        "        for inputs, labels in train_dataloader:\n",
        "            inputs, labels = inputs.to(device), labels.to(device)\n",
        "\n",
        "            optimizer.zero_grad()\n",
        "            outputs = model(inputs)\n",
        "            loss = criterion(outputs, labels.float())\n",
        "            loss.backward()\n",
        "            optimizer.step()\n",
        "\n",
        "            train_loss += loss.item()\n",
        "\n",
        "        train_loss /= len(train_dataloader)\n",
        "        train_losses.append(train_loss)\n",
        "\n",
        "        model.eval()\n",
        "        test_loss = 0\n",
        "        correct = 0\n",
        "        total = 0\n",
        "        with torch.no_grad():\n",
        "            for inputs, labels in test_dataloader:\n",
        "                inputs, labels = inputs.to(device), labels.to(device)\n",
        "\n",
        "                outputs = model(inputs)\n",
        "                loss = criterion(outputs, labels.float())\n",
        "\n",
        "                test_loss += loss.item()\n",
        "                predicted = (outputs > 0.5).float()\n",
        "                correct += (predicted == labels).sum().item()\n",
        "                total += labels.size(0)\n",
        "\n",
        "        test_loss /= len(test_dataloader)\n",
        "        test_losses.append(test_loss)\n",
        "        test_accuracy = correct / total\n",
        "\n",
        "        print(f'Epoch: {epoch + 1}, Train Loss: {train_loss:.4f}, Test Loss: {test_loss:.4f}, Test Accuracy: {test_accuracy:.4f}')\n",
        "\n",
        "        if test_loss < best_test_loss:\n",
        "            best_test_loss = test_loss\n",
        "            patience_counter = 0\n",
        "        else:\n",
        "            patience_counter += 1\n",
        "            if patience_counter >= early_stopping_patience:\n",
        "                print(\"Early stopping\")\n",
        "                break\n",
        "\n",
        "    plt.figure()\n",
        "    plt.plot(train_losses, label='Train Loss')\n",
        "    plt.plot(test_losses, label='Test Loss')\n",
        "    plt.xlabel('Epoch')\n",
        "    plt.ylabel('Loss')\n",
        "    plt.legend()\n",
        "    plt.show()"
      ],
      "metadata": {
        "id": "sptjbFn3ZAS9"
      },
      "execution_count": null,
      "outputs": []
    },
    {
      "cell_type": "code",
      "source": [
        "mymodel = Model()\n",
        "train(mymodel, train_dataloader, test_dataloader, epochs = 50, learning_rate = 0.001, early_stopping_patience = 5)"
      ],
      "metadata": {
        "colab": {
          "base_uri": "https://localhost:8080/",
          "height": 640
        },
        "id": "ihNzN6q_kY_c",
        "outputId": "88cd1bfa-5ebb-4f32-848d-0c6100155a38"
      },
      "execution_count": null,
      "outputs": [
        {
          "output_type": "stream",
          "name": "stdout",
          "text": [
            "Epoch: 1, Train Loss: 0.6931, Test Loss: 0.6929, Test Accuracy: 0.5052\n",
            "Epoch: 2, Train Loss: 0.6863, Test Loss: 0.6825, Test Accuracy: 0.5450\n",
            "Epoch: 3, Train Loss: 0.5807, Test Loss: 0.5701, Test Accuracy: 0.7212\n",
            "Epoch: 4, Train Loss: 0.4087, Test Loss: 0.4242, Test Accuracy: 0.8102\n",
            "Epoch: 5, Train Loss: 0.2958, Test Loss: 0.4012, Test Accuracy: 0.8242\n",
            "Epoch: 6, Train Loss: 0.2246, Test Loss: 0.4103, Test Accuracy: 0.8264\n",
            "Epoch: 7, Train Loss: 0.1685, Test Loss: 0.4244, Test Accuracy: 0.8314\n",
            "Epoch: 8, Train Loss: 0.1245, Test Loss: 0.4699, Test Accuracy: 0.8304\n",
            "Epoch: 9, Train Loss: 0.0883, Test Loss: 0.5191, Test Accuracy: 0.8298\n",
            "Epoch: 10, Train Loss: 0.0584, Test Loss: 0.6661, Test Accuracy: 0.8246\n",
            "Early stopping\n"
          ]
        },
        {
          "output_type": "display_data",
          "data": {
            "text/plain": [
              "<Figure size 640x480 with 1 Axes>"
            ],
            "image/png": "[encoded data removed]"
          },
          "metadata": {}
        }
      ]
    },
    {
      "cell_type": "code",
      "source": [
        "#Testing the model on a new input:\n",
        "input = \"In the Mood for Love is a very sexy, moody, gorgeous, and stylized film. Set in Hong Kong in the early 60's, we follow the development of love between two lonely neighbors each of whom is trapped in unhappy marriages. This film captured me from the first second to the last. It's slow but visually captivating that you would continue to watch it. Everything besides of its progression was on point from cinematography to soundtrack, to lead actor performances.\"\n",
        "tokens = tokenizer(input.lower())\n",
        "token_ids = []\n",
        "for token in tokens:\n",
        "    if token in dictionary:\n",
        "        token_id = dictionary[token]\n",
        "    else:\n",
        "        token_id = dictionary['<unk>']\n",
        "    token_ids.append(token_id)\n",
        "token_ids = token_ids[:200] + [dictionary['<pad>']] * (200 - len(token_ids))\n",
        "token_ids = torch.tensor(token_ids)\n",
        "\n",
        "mymodel.eval()\n",
        "device = torch.device('cuda' if torch.cuda.is_available() else 'cpu')\n",
        "with torch.no_grad():\n",
        "  output = mymodel(token_ids)\n",
        "if output > 0.5:\n",
        "  print(\"positive review\")\n",
        "else:\n",
        "  print(\"negative review\")"
      ],
      "metadata": {
        "colab": {
          "base_uri": "https://localhost:8080/"
        },
        "id": "XJORg-kOwY8M",
        "outputId": "1323ff51-86ee-4fa8-bd8e-25f6ffd3e760"
      },
      "execution_count": null,
      "outputs": [
        {
          "output_type": "stream",
          "name": "stdout",
          "text": [
            "positive review\n"
          ]
        }
      ]
    }
  ]
}